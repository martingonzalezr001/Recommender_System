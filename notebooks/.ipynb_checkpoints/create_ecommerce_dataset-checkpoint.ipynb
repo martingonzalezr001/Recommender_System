{
 "cells": [
  {
   "cell_type": "code",
   "execution_count": 5,
   "id": "538e815d-51ed-445a-962e-5f4dbbc5f621",
   "metadata": {},
   "outputs": [],
   "source": [
    "import pandas as pd"
   ]
  },
  {
   "cell_type": "code",
   "execution_count": 6,
   "id": "5cb34ca7-c072-4cc7-b984-a44280b8bf1f",
   "metadata": {},
   "outputs": [],
   "source": [
    "# Definir los datos sin la columna de Facilidad de Uso\n",
    "data = [\n",
    "    [\"Stripe\", \"Tarjetas de Crédito, PayPal, Bitcoin, Transferencias Bancarias\", \"Sí\", \"Sí\", \"Sí\", \"Sí\", \"5%\", \"Alta\", \"Alto\", \"Alta\", \"Alto\"],\n",
    "    [\"PayPal\", \"Tarjetas de Crédito, PayPal\", \"No\", \"Sí\", \"Sí\", \"Sí\", \"2.9% + $0.30\", \"Alta\", \"Bajo\", \"Alta\", \"Alto\"],\n",
    "    [\"Square\", \"Tarjetas de Crédito, Apple Pay, Google Pay\", \"Sí\", \"Sí\", \"Sí\", \"Sí\", \"2.6% + $0.10\", \"Alta\", \"Medio\", \"Alta\", \"Alto\"],\n",
    "    [\"Razorpay\", \"Tarjetas de Crédito, PayPal, Google Pay\", \"Sí\", \"Sí\", \"Sí\", \"Sí\", \"2% + $0.30\", \"Alta\", \"Bajo\", \"Alta\", \"Medio\"],\n",
    "    [\"Adyen\", \"Tarjetas de Crédito, PayPal, Transferencias Bancarias\", \"Sí\", \"Sí\", \"Sí\", \"Sí\", \"0.6%\", \"Alta\", \"Alto\", \"Alta\", \"Alto\"],\n",
    "    [\"Braintree\", \"Tarjetas de Crédito, PayPal, Venmo\", \"Sí\", \"Sí\", \"Sí\", \"Sí\", \"2.9% + $0.30\", \"Alta\", \"Medio\", \"Alta\", \"Alto\"],\n",
    "    [\"Worldpay\", \"Tarjetas de Crédito, PayPal, Transferencias Bancarias\", \"Sí\", \"Sí\", \"Sí\", \"Sí\", \"2.75%\", \"Alta\", \"Medio\", \"Alta\", \"Alto\"],\n",
    "    [\"Klarna\", \"Transferencias Bancarias, PayPal\", \"Sí\", \"Sí\", \"Sí\", \"Sí\", \"2.9% + $0.30\", \"Alta\", \"Bajo\", \"Alta\", \"Alto\"],\n",
    "    [\"Shopify Payments\", \"Tarjetas de Crédito, Shopify\", \"Sí\", \"Sí\", \"Sí\", \"Sí\", \"2.9% + $0.30\", \"Alta\", \"Medio\", \"Alta\", \"Alto\"],\n",
    "    [\"Payoneer\", \"Tarjetas de Crédito, Transferencias Bancarias\", \"Sí\", \"Sí\", \"Sí\", \"Sí\", \"1% + tarifa fija\", \"Alta\", \"Medio\", \"Alta\", \"Alto\"],\n",
    "    [\"2Checkout\", \"Tarjetas de Crédito, PayPal\", \"Sí\", \"Sí\", \"Sí\", \"Sí\", \"3.5% + $0.35\", \"Alta\", \"Medio\", \"Alta\", \"Medio\"],\n",
    "    [\"WePay\", \"Tarjetas de Crédito, PayPal\", \"Sí\", \"Sí\", \"Sí\", \"Sí\", \"2.9% + $0.30\", \"Alta\", \"Medio\", \"Alta\", \"Medio\"],\n",
    "    [\"Alipay\", \"Tarjetas de Crédito, Transferencias Bancarias\", \"Sí\", \"Sí\", \"Sí\", \"Sí\", \"0.6%\", \"Alta\", \"Medio\", \"Alta\", \"Alto\"],\n",
    "    [\"Skrill\", \"Tarjetas de Crédito, PayPal\", \"Sí\", \"Sí\", \"Sí\", \"Sí\", \"2.9% + $0.30\", \"Alta\", \"Medio\", \"Alta\", \"Alto\"],\n",
    "    [\"Mollie\", \"Tarjetas de Crédito, PayPal\", \"Sí\", \"Sí\", \"Sí\", \"Sí\", \"1.8% + $0.25\", \"Alta\", \"Medio\", \"Alta\", \"Medio\"],\n",
    "    [\"Paytm\", \"Tarjetas de Crédito, PayPal, Transferencias Bancarias\", \"Sí\", \"Sí\", \"Sí\", \"Sí\", \"2%\", \"Alta\", \"Medio\", \"Alta\", \"Alto\"],\n",
    "    [\"Authorize.Net\", \"Tarjetas de Crédito, PayPal, Venmo\", \"Sí\", \"Sí\", \"Sí\", \"Sí\", \"2.9% + $0.30\", \"Alta\", \"Medio\", \"Alta\", \"Alto\"],\n",
    "    [\"BlueSnap\", \"Tarjetas de Crédito, PayPal\", \"Sí\", \"Sí\", \"Sí\", \"Sí\", \"2.5%\", \"Alta\", \"Medio\", \"Alta\", \"Medio\"],\n",
    "    [\"Fattmerchant\", \"Tarjetas de Crédito\", \"Sí\", \"Sí\", \"Sí\", \"Sí\", \"0.4% + tarifa fija\", \"Alta\", \"Medio\", \"Alta\", \"Medio\"],\n",
    "    [\"Vantiv\", \"Tarjetas de Crédito, Apple Pay\", \"Sí\", \"Sí\", \"Sí\", \"Sí\", \"2.5%\", \"Alta\", \"Medio\", \"Alta\", \"Medio\"],\n",
    "    [\"Zalando Payments\", \"Tarjetas de Crédito, PayPal\", \"Sí\", \"Sí\", \"Sí\", \"Sí\", \"3%\", \"Alta\", \"Medio\", \"Alta\", \"Bajo\"],\n",
    "    [\"Venmo\", \"Tarjetas de Crédito, PayPal\", \"Sí\", \"Sí\", \"Sí\", \"Sí\", \"2.9% + $0.30\", \"Alta\", \"Medio\", \"Alta\", \"Alto\"],\n",
    "    [\"BillDesk\", \"Transferencias Bancarias\", \"Sí\", \"Sí\", \"Sí\", \"Sí\", \"1% + tarifa fija\", \"Alta\", \"Bajo\", \"Alta\", \"Medio\"],\n",
    "    [\"KOMOJU\", \"Tarjetas de Crédito, PayPal\", \"Sí\", \"Sí\", \"Sí\", \"Sí\", \"3.6%\", \"Alta\", \"Medio\", \"Alta\", \"Bajo\"]\n",
    "]\n"
   ]
  },
  {
   "cell_type": "code",
   "execution_count": 7,
   "id": "b490e44b-66cf-4e13-8ce8-ace2321208fc",
   "metadata": {},
   "outputs": [],
   "source": [
    "# Crear el DataFrame\n",
    "columns = [\n",
    "    \"Herramienta\", \"Métodos de Pago Soportados\", \"Soporte para E-commerce\", \"Soporte para Suscripciones\",\n",
    "    \"Soporte para Pagos Internacionales\", \"Soporte para Fraude y Prevención\", \"Cargos por Transacción\",\n",
    "    \"Escalabilidad\", \"Coste\", \"Seguridad\", \"Nivel de Uso\"\n",
    "]\n",
    "\n",
    "df = pd.DataFrame(data, columns=columns)\n"
   ]
  },
  {
   "cell_type": "code",
   "execution_count": 8,
   "id": "de04750c-cc0d-46a8-92eb-c6de4d467a6f",
   "metadata": {},
   "outputs": [
    {
     "name": "stdout",
     "output_type": "stream",
     "text": [
      "Dataset actualizado y guardado correctamente.\n"
     ]
    }
   ],
   "source": [
    "# Guardar en CSV sin valores nulos\n",
    "df.to_csv(\"../data/ecommerce_df.csv\", index=False, encoding=\"utf-8\")\n",
    "\n",
    "print(\"Dataset actualizado y guardado correctamente.\")"
   ]
  },
  {
   "cell_type": "code",
   "execution_count": null,
   "id": "17cbda00-f264-435f-8a6d-840bbba0e48a",
   "metadata": {},
   "outputs": [],
   "source": []
  }
 ],
 "metadata": {
  "kernelspec": {
   "display_name": "Python 3 (ipykernel)",
   "language": "python",
   "name": "python3"
  },
  "language_info": {
   "codemirror_mode": {
    "name": "ipython",
    "version": 3
   },
   "file_extension": ".py",
   "mimetype": "text/x-python",
   "name": "python",
   "nbconvert_exporter": "python",
   "pygments_lexer": "ipython3",
   "version": "3.10.14"
  }
 },
 "nbformat": 4,
 "nbformat_minor": 5
}
